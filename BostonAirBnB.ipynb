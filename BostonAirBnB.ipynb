{
 "cells": [
  {
   "cell_type": "code",
   "execution_count": 1,
   "metadata": {},
   "outputs": [],
   "source": [
    "#Boston AirBnB data analysis\n",
    "#import libraries\n",
    "import numpy as np\n",
    "import pandas as pd\n",
    "import matplotlib.pyplot as plt\n",
    "from sklearn.linear_model import LinearRegression\n",
    "from sklearn.model_selection import train_test_split\n",
    "from sklearn.metrics import r2_score, mean_squared_error\n",
    "import seaborn as sns\n",
    "%matplotlib inline\n",
    "pd.options.mode.chained_assignment = None"
   ]
  },
  {
   "cell_type": "code",
   "execution_count": 2,
   "metadata": {},
   "outputs": [],
   "source": [
    "#start with listings analysis \n",
    "listings = pd.read_csv('listings.csv')"
   ]
  },
  {
   "cell_type": "code",
   "execution_count": 3,
   "metadata": {},
   "outputs": [
    {
     "data": {
      "text/plain": [
       "(3585, 95)"
      ]
     },
     "execution_count": 3,
     "metadata": {},
     "output_type": "execute_result"
    }
   ],
   "source": [
    "listings.shape"
   ]
  },
  {
   "cell_type": "code",
   "execution_count": 4,
   "metadata": {},
   "outputs": [],
   "source": [
    "#change preview settings\n",
    "pd.set_option('display.max_rows', 500)\n",
    "pd.set_option('display.max_columns', 500)\n",
    "pd.set_option('display.width', 1000)"
   ]
  },
  {
   "cell_type": "code",
   "execution_count": 5,
   "metadata": {},
   "outputs": [
    {
     "data": {
      "text/plain": [
       "0"
      ]
     },
     "execution_count": 5,
     "metadata": {},
     "output_type": "execute_result"
    }
   ],
   "source": [
    "#we are going to work mostly with the price check if price as nulls\n",
    "listings['price'].isna().sum()"
   ]
  },
  {
   "cell_type": "code",
   "execution_count": 50,
   "metadata": {},
   "outputs": [],
   "source": [
    "listings.head()\n",
    "#create smaller dataset to work on \n",
    "df = listings[['id','host_since','host_response_time','host_response_rate','host_acceptance_rate', 'host_is_superhost', 'host_has_profile_pic',\n",
    "              'host_identity_verified', 'neighbourhood_cleansed','latitude', 'longitude','property_type','room_type',\n",
    "              'accommodates','bathrooms','bedrooms','bed_type','amenities','price','guests_included','cleaning_fee',\n",
    "              'security_deposit','extra_people','minimum_nights','number_of_reviews','review_scores_rating',\n",
    "              'review_scores_accuracy','review_scores_cleanliness','review_scores_checkin','cancellation_policy',\n",
    "               'review_scores_communication','review_scores_location','review_scores_value','instant_bookable']]"
   ]
  },
  {
   "cell_type": "code",
   "execution_count": 51,
   "metadata": {},
   "outputs": [
    {
     "data": {
      "text/html": [
       "<div>\n",
       "<style scoped>\n",
       "    .dataframe tbody tr th:only-of-type {\n",
       "        vertical-align: middle;\n",
       "    }\n",
       "\n",
       "    .dataframe tbody tr th {\n",
       "        vertical-align: top;\n",
       "    }\n",
       "\n",
       "    .dataframe thead th {\n",
       "        text-align: right;\n",
       "    }\n",
       "</style>\n",
       "<table border=\"1\" class=\"dataframe\">\n",
       "  <thead>\n",
       "    <tr style=\"text-align: right;\">\n",
       "      <th></th>\n",
       "      <th>id</th>\n",
       "      <th>host_since</th>\n",
       "      <th>host_response_time</th>\n",
       "      <th>host_response_rate</th>\n",
       "      <th>host_acceptance_rate</th>\n",
       "      <th>host_is_superhost</th>\n",
       "      <th>host_has_profile_pic</th>\n",
       "      <th>host_identity_verified</th>\n",
       "      <th>neighbourhood_cleansed</th>\n",
       "      <th>latitude</th>\n",
       "      <th>longitude</th>\n",
       "      <th>property_type</th>\n",
       "      <th>room_type</th>\n",
       "      <th>accommodates</th>\n",
       "      <th>bathrooms</th>\n",
       "      <th>bedrooms</th>\n",
       "      <th>bed_type</th>\n",
       "      <th>amenities</th>\n",
       "      <th>price</th>\n",
       "      <th>guests_included</th>\n",
       "      <th>cleaning_fee</th>\n",
       "      <th>security_deposit</th>\n",
       "      <th>extra_people</th>\n",
       "      <th>minimum_nights</th>\n",
       "      <th>number_of_reviews</th>\n",
       "      <th>review_scores_rating</th>\n",
       "      <th>review_scores_accuracy</th>\n",
       "      <th>review_scores_cleanliness</th>\n",
       "      <th>review_scores_checkin</th>\n",
       "      <th>cancellation_policy</th>\n",
       "      <th>review_scores_communication</th>\n",
       "      <th>review_scores_location</th>\n",
       "      <th>review_scores_value</th>\n",
       "      <th>instant_bookable</th>\n",
       "    </tr>\n",
       "  </thead>\n",
       "  <tbody>\n",
       "    <tr>\n",
       "      <td>0</td>\n",
       "      <td>12147973</td>\n",
       "      <td>2015-04-15</td>\n",
       "      <td>NaN</td>\n",
       "      <td>NaN</td>\n",
       "      <td>NaN</td>\n",
       "      <td>f</td>\n",
       "      <td>t</td>\n",
       "      <td>f</td>\n",
       "      <td>Roslindale</td>\n",
       "      <td>42.282619</td>\n",
       "      <td>-71.133068</td>\n",
       "      <td>House</td>\n",
       "      <td>Entire home/apt</td>\n",
       "      <td>4</td>\n",
       "      <td>1.5</td>\n",
       "      <td>2.0</td>\n",
       "      <td>Real Bed</td>\n",
       "      <td>{TV,\"Wireless Internet\",Kitchen,\"Free Parking ...</td>\n",
       "      <td>$250.00</td>\n",
       "      <td>1</td>\n",
       "      <td>$35.00</td>\n",
       "      <td>NaN</td>\n",
       "      <td>$0.00</td>\n",
       "      <td>2</td>\n",
       "      <td>0</td>\n",
       "      <td>NaN</td>\n",
       "      <td>NaN</td>\n",
       "      <td>NaN</td>\n",
       "      <td>NaN</td>\n",
       "      <td>moderate</td>\n",
       "      <td>NaN</td>\n",
       "      <td>NaN</td>\n",
       "      <td>NaN</td>\n",
       "      <td>f</td>\n",
       "    </tr>\n",
       "    <tr>\n",
       "      <td>1</td>\n",
       "      <td>3075044</td>\n",
       "      <td>2012-06-07</td>\n",
       "      <td>within an hour</td>\n",
       "      <td>100%</td>\n",
       "      <td>100%</td>\n",
       "      <td>f</td>\n",
       "      <td>t</td>\n",
       "      <td>t</td>\n",
       "      <td>Roslindale</td>\n",
       "      <td>42.286241</td>\n",
       "      <td>-71.134374</td>\n",
       "      <td>Apartment</td>\n",
       "      <td>Private room</td>\n",
       "      <td>2</td>\n",
       "      <td>1.0</td>\n",
       "      <td>1.0</td>\n",
       "      <td>Real Bed</td>\n",
       "      <td>{TV,Internet,\"Wireless Internet\",\"Air Conditio...</td>\n",
       "      <td>$65.00</td>\n",
       "      <td>0</td>\n",
       "      <td>$10.00</td>\n",
       "      <td>$95.00</td>\n",
       "      <td>$0.00</td>\n",
       "      <td>2</td>\n",
       "      <td>36</td>\n",
       "      <td>94.0</td>\n",
       "      <td>10.0</td>\n",
       "      <td>9.0</td>\n",
       "      <td>10.0</td>\n",
       "      <td>moderate</td>\n",
       "      <td>10.0</td>\n",
       "      <td>9.0</td>\n",
       "      <td>9.0</td>\n",
       "      <td>t</td>\n",
       "    </tr>\n",
       "    <tr>\n",
       "      <td>2</td>\n",
       "      <td>6976</td>\n",
       "      <td>2009-05-11</td>\n",
       "      <td>within a few hours</td>\n",
       "      <td>100%</td>\n",
       "      <td>88%</td>\n",
       "      <td>t</td>\n",
       "      <td>t</td>\n",
       "      <td>t</td>\n",
       "      <td>Roslindale</td>\n",
       "      <td>42.292438</td>\n",
       "      <td>-71.135765</td>\n",
       "      <td>Apartment</td>\n",
       "      <td>Private room</td>\n",
       "      <td>2</td>\n",
       "      <td>1.0</td>\n",
       "      <td>1.0</td>\n",
       "      <td>Real Bed</td>\n",
       "      <td>{TV,\"Cable TV\",\"Wireless Internet\",\"Air Condit...</td>\n",
       "      <td>$65.00</td>\n",
       "      <td>1</td>\n",
       "      <td>NaN</td>\n",
       "      <td>NaN</td>\n",
       "      <td>$20.00</td>\n",
       "      <td>3</td>\n",
       "      <td>41</td>\n",
       "      <td>98.0</td>\n",
       "      <td>10.0</td>\n",
       "      <td>9.0</td>\n",
       "      <td>10.0</td>\n",
       "      <td>moderate</td>\n",
       "      <td>10.0</td>\n",
       "      <td>9.0</td>\n",
       "      <td>10.0</td>\n",
       "      <td>f</td>\n",
       "    </tr>\n",
       "    <tr>\n",
       "      <td>3</td>\n",
       "      <td>1436513</td>\n",
       "      <td>2013-04-21</td>\n",
       "      <td>within a few hours</td>\n",
       "      <td>100%</td>\n",
       "      <td>50%</td>\n",
       "      <td>f</td>\n",
       "      <td>t</td>\n",
       "      <td>f</td>\n",
       "      <td>Roslindale</td>\n",
       "      <td>42.281106</td>\n",
       "      <td>-71.121021</td>\n",
       "      <td>House</td>\n",
       "      <td>Private room</td>\n",
       "      <td>4</td>\n",
       "      <td>1.0</td>\n",
       "      <td>1.0</td>\n",
       "      <td>Real Bed</td>\n",
       "      <td>{TV,Internet,\"Wireless Internet\",\"Air Conditio...</td>\n",
       "      <td>$75.00</td>\n",
       "      <td>2</td>\n",
       "      <td>$50.00</td>\n",
       "      <td>$100.00</td>\n",
       "      <td>$25.00</td>\n",
       "      <td>1</td>\n",
       "      <td>1</td>\n",
       "      <td>100.0</td>\n",
       "      <td>10.0</td>\n",
       "      <td>10.0</td>\n",
       "      <td>10.0</td>\n",
       "      <td>moderate</td>\n",
       "      <td>10.0</td>\n",
       "      <td>10.0</td>\n",
       "      <td>10.0</td>\n",
       "      <td>f</td>\n",
       "    </tr>\n",
       "    <tr>\n",
       "      <td>4</td>\n",
       "      <td>7651065</td>\n",
       "      <td>2014-05-11</td>\n",
       "      <td>within an hour</td>\n",
       "      <td>100%</td>\n",
       "      <td>100%</td>\n",
       "      <td>t</td>\n",
       "      <td>t</td>\n",
       "      <td>t</td>\n",
       "      <td>Roslindale</td>\n",
       "      <td>42.284512</td>\n",
       "      <td>-71.136258</td>\n",
       "      <td>House</td>\n",
       "      <td>Private room</td>\n",
       "      <td>2</td>\n",
       "      <td>1.5</td>\n",
       "      <td>1.0</td>\n",
       "      <td>Real Bed</td>\n",
       "      <td>{Internet,\"Wireless Internet\",\"Air Conditionin...</td>\n",
       "      <td>$79.00</td>\n",
       "      <td>1</td>\n",
       "      <td>$15.00</td>\n",
       "      <td>NaN</td>\n",
       "      <td>$0.00</td>\n",
       "      <td>2</td>\n",
       "      <td>29</td>\n",
       "      <td>99.0</td>\n",
       "      <td>10.0</td>\n",
       "      <td>10.0</td>\n",
       "      <td>10.0</td>\n",
       "      <td>flexible</td>\n",
       "      <td>10.0</td>\n",
       "      <td>9.0</td>\n",
       "      <td>10.0</td>\n",
       "      <td>f</td>\n",
       "    </tr>\n",
       "  </tbody>\n",
       "</table>\n",
       "</div>"
      ],
      "text/plain": [
       "         id  host_since  host_response_time host_response_rate host_acceptance_rate host_is_superhost host_has_profile_pic host_identity_verified neighbourhood_cleansed   latitude  longitude property_type        room_type  accommodates  bathrooms  bedrooms  bed_type                                          amenities    price  guests_included cleaning_fee security_deposit extra_people  minimum_nights  number_of_reviews  review_scores_rating  review_scores_accuracy  review_scores_cleanliness  review_scores_checkin cancellation_policy  review_scores_communication  review_scores_location  review_scores_value instant_bookable\n",
       "0  12147973  2015-04-15                 NaN                NaN                  NaN                 f                    t                      f             Roslindale  42.282619 -71.133068         House  Entire home/apt             4        1.5       2.0  Real Bed  {TV,\"Wireless Internet\",Kitchen,\"Free Parking ...  $250.00                1       $35.00              NaN        $0.00               2                  0                   NaN                     NaN                        NaN                    NaN            moderate                          NaN                     NaN                  NaN                f\n",
       "1   3075044  2012-06-07      within an hour               100%                 100%                 f                    t                      t             Roslindale  42.286241 -71.134374     Apartment     Private room             2        1.0       1.0  Real Bed  {TV,Internet,\"Wireless Internet\",\"Air Conditio...   $65.00                0       $10.00           $95.00        $0.00               2                 36                  94.0                    10.0                        9.0                   10.0            moderate                         10.0                     9.0                  9.0                t\n",
       "2      6976  2009-05-11  within a few hours               100%                  88%                 t                    t                      t             Roslindale  42.292438 -71.135765     Apartment     Private room             2        1.0       1.0  Real Bed  {TV,\"Cable TV\",\"Wireless Internet\",\"Air Condit...   $65.00                1          NaN              NaN       $20.00               3                 41                  98.0                    10.0                        9.0                   10.0            moderate                         10.0                     9.0                 10.0                f\n",
       "3   1436513  2013-04-21  within a few hours               100%                  50%                 f                    t                      f             Roslindale  42.281106 -71.121021         House     Private room             4        1.0       1.0  Real Bed  {TV,Internet,\"Wireless Internet\",\"Air Conditio...   $75.00                2       $50.00          $100.00       $25.00               1                  1                 100.0                    10.0                       10.0                   10.0            moderate                         10.0                    10.0                 10.0                f\n",
       "4   7651065  2014-05-11      within an hour               100%                 100%                 t                    t                      t             Roslindale  42.284512 -71.136258         House     Private room             2        1.5       1.0  Real Bed  {Internet,\"Wireless Internet\",\"Air Conditionin...   $79.00                1       $15.00              NaN        $0.00               2                 29                  99.0                    10.0                       10.0                   10.0            flexible                         10.0                     9.0                 10.0                f"
      ]
     },
     "execution_count": 51,
     "metadata": {},
     "output_type": "execute_result"
    }
   ],
   "source": [
    "df.head()"
   ]
  },
  {
   "cell_type": "code",
   "execution_count": 52,
   "metadata": {},
   "outputs": [
    {
     "data": {
      "text/plain": [
       "neighbourhood_cleansed\n",
       "Allston                    260\n",
       "Back Bay                   302\n",
       "Bay Village                 24\n",
       "Beacon Hill                194\n",
       "Brighton                   185\n",
       "Charlestown                111\n",
       "Chinatown                   71\n",
       "Dorchester                 269\n",
       "Downtown                   172\n",
       "East Boston                150\n",
       "Fenway                     290\n",
       "Hyde Park                   31\n",
       "Jamaica Plain              343\n",
       "Leather District             5\n",
       "Longwood Medical Area        9\n",
       "Mattapan                    24\n",
       "Mission Hill               124\n",
       "North End                  143\n",
       "Roslindale                  56\n",
       "Roxbury                    144\n",
       "South Boston               174\n",
       "South Boston Waterfront     83\n",
       "South End                  326\n",
       "West End                    49\n",
       "West Roxbury                46\n",
       "Name: id, dtype: int64"
      ]
     },
     "execution_count": 52,
     "metadata": {},
     "output_type": "execute_result"
    }
   ],
   "source": [
    "df.groupby([\"neighbourhood_cleansed\"])[\"id\"].count()"
   ]
  },
  {
   "cell_type": "code",
   "execution_count": 53,
   "metadata": {},
   "outputs": [],
   "source": [
    "#converting cat values into numbers \n",
    "col_list = ['cancellation_policy', 'host_response_time','neighbourhood_cleansed','host_is_superhost','host_has_profile_pic','host_identity_verified',\n",
    "            'neighbourhood_cleansed','property_type','room_type', 'bed_type', 'instant_bookable']\n",
    "            \n",
    "for col in df:\n",
    "    if col in col_list:\n",
    "        df[col +'_numeric'] = pd.factorize( df[col] )[0];\n"
   ]
  },
  {
   "cell_type": "code",
   "execution_count": 54,
   "metadata": {},
   "outputs": [],
   "source": [
    "#convert currency columns into number\n",
    "curr_list = ['price','cleaning_fee','security_deposit','extra_people']\n",
    "            \n",
    "for col in df:\n",
    "    if col in curr_list:\n",
    "        df[col] = df[col].replace('[\\$,]', '', regex=True).astype(float)"
   ]
  },
  {
   "cell_type": "code",
   "execution_count": 55,
   "metadata": {},
   "outputs": [],
   "source": [
    "#convert % into numbers\n",
    "pct_list = ['host_response_rate','host_acceptance_rate']\n",
    "            \n",
    "for col in df:\n",
    "    if col in pct_list:\n",
    "        df[col] = (df[col].replace('[\\%,]', '', regex=True).astype(float)) / 100"
   ]
  },
  {
   "cell_type": "code",
   "execution_count": 56,
   "metadata": {},
   "outputs": [],
   "source": [
    "#replace host_since with number of day from host_since to today\n",
    "#first convert to date\n",
    "df[['host_since']] = df[['host_since']].apply(pd.to_datetime)\n",
    "\n",
    "df['host_since'] = (pd.to_datetime('today') - df['host_since']).dt.days"
   ]
  },
  {
   "cell_type": "code",
   "execution_count": 57,
   "metadata": {},
   "outputs": [
    {
     "name": "stdout",
     "output_type": "stream",
     "text": [
      "heating 3382\n",
      "kitchen 3272\n",
      "wireless internet 3070\n",
      "essentials 2994\n",
      "smoke detector 2908\n",
      "air conditioning 2786\n",
      " tv 2607\n",
      "dryer 2476\n",
      "washer 2475\n",
      "carbon monoxide detector 2442\n",
      "shampoo 2421\n",
      "internet 2160\n",
      "hangers 1985\n",
      "family/kid friendly 1886\n",
      "laptop friendly workspace 1834\n",
      "iron 1828\n",
      "hair dryer 1811\n",
      "cable tv 1652\n",
      "fire extinguisher 1582\n",
      "24-hour check-in 1246\n",
      "first aid kit 1063\n"
     ]
    }
   ],
   "source": [
    "#find top 10 amenities\n",
    "# Get the set of unique words.\n",
    "uniques = []\n",
    "for row in df['amenities']:\n",
    "    row = row.lower()\n",
    "    row = row.replace('{', ' ').replace('\"', '').replace('}', '')\n",
    "    words = row.split(\",\") \n",
    "    for word in words:\n",
    "        if word not in uniques:\n",
    "            uniques.append(word)\n",
    "\n",
    "# Make a list of (count, unique) tuples.\n",
    "counts = []\n",
    "final_amenities = []\n",
    "for unique in uniques:\n",
    "    count = 0              # Initialize the count to zero.\n",
    "    for row in df['amenities']:\n",
    "        row = row.lower()\n",
    "        row = row.replace('{', ' ').replace('\"', '').replace('}', '')\n",
    "        words = row.split(\",\")\n",
    "        for word in words:     # Iterate over the words.\n",
    "            if word == unique:   # Is this word equal to the current unique?\n",
    "                count += 1         # If so, increment the count\n",
    "    counts.append((count, unique))\n",
    "\n",
    "counts.sort()            # Sorting the list puts the lowest counts first.\n",
    "counts.reverse()         # Reverse it, putting the highest counts first.\n",
    "\n",
    "# Print the ten words with the highest counts and create the list with the ones that appear in more than a 1000 places\n",
    "for i in range(min(21, len(counts))):\n",
    "    count, word = counts[i]\n",
    "    final_amenities.append(word)\n",
    "    print('%s %d' % (word, count))"
   ]
  },
  {
   "cell_type": "code",
   "execution_count": 23,
   "metadata": {},
   "outputs": [
    {
     "data": {
      "text/plain": [
       "['heating',\n",
       " 'kitchen',\n",
       " 'wireless internet',\n",
       " 'essentials',\n",
       " 'smoke detector',\n",
       " 'air conditioning',\n",
       " ' tv',\n",
       " 'dryer',\n",
       " 'washer',\n",
       " 'carbon monoxide detector',\n",
       " 'shampoo',\n",
       " 'internet',\n",
       " 'hangers',\n",
       " 'family/kid friendly',\n",
       " 'laptop friendly workspace',\n",
       " 'iron',\n",
       " 'hair dryer',\n",
       " 'cable tv',\n",
       " 'fire extinguisher',\n",
       " '24-hour check-in']"
      ]
     },
     "execution_count": 23,
     "metadata": {},
     "output_type": "execute_result"
    }
   ],
   "source": [
    "# add top 21 amenities as a new boolean columns \n",
    "final_amenities"
   ]
  },
  {
   "cell_type": "code",
   "execution_count": 65,
   "metadata": {},
   "outputs": [],
   "source": [
    "#add top 21 amenities as 1/0 values to the table\n",
    "\n",
    "i = 0\n",
    "for amenities in final_amenities:\n",
    "    column_to_add = [] \n",
    "    for row in df['amenities']:\n",
    "        if amenities in row.lower(): \n",
    "            column_to_add.append(1)\n",
    "        else:\n",
    "            column_to_add.append(0)\n",
    "    col_name = 'Amenities_' +amenities\n",
    "    df[col_name] = column_to_add   \n",
    "    i+=1"
   ]
  },
  {
   "cell_type": "code",
   "execution_count": 87,
   "metadata": {},
   "outputs": [
    {
     "data": {
      "text/plain": [
       "id                                     0\n",
       "host_since                             0\n",
       "host_is_superhost                      0\n",
       "host_has_profile_pic                   0\n",
       "host_identity_verified                 0\n",
       "neighbourhood_cleansed                 0\n",
       "latitude                               0\n",
       "longitude                              0\n",
       "property_type                          0\n",
       "room_type                              0\n",
       "accommodates                           0\n",
       "bathrooms                              0\n",
       "bedrooms                               0\n",
       "bed_type                               0\n",
       "amenities                              0\n",
       "price                                  0\n",
       "guests_included                        0\n",
       "extra_people                           0\n",
       "minimum_nights                         0\n",
       "number_of_reviews                      0\n",
       "review_scores_rating                   0\n",
       "review_scores_accuracy                 0\n",
       "review_scores_cleanliness              0\n",
       "review_scores_checkin                  0\n",
       "cancellation_policy                    0\n",
       "review_scores_communication            0\n",
       "review_scores_location                 0\n",
       "review_scores_value                    0\n",
       "instant_bookable                       0\n",
       "host_is_superhost_numeric              0\n",
       "host_has_profile_pic_numeric           0\n",
       "host_identity_verified_numeric         0\n",
       "neighbourhood_cleansed_numeric         0\n",
       "property_type_numeric                  0\n",
       "room_type_numeric                      0\n",
       "bed_type_numeric                       0\n",
       "cancellation_policy_numeric            0\n",
       "instant_bookable_numeric               0\n",
       "Amenities_heating                      0\n",
       "Amenities_kitchen                      0\n",
       "Amenities_wireless internet            0\n",
       "Amenities_essentials                   0\n",
       "Amenities_smoke detector               0\n",
       "Amenities_air conditioning             0\n",
       "Amenities_ tv                          0\n",
       "Amenities_dryer                        0\n",
       "Amenities_washer                       0\n",
       "Amenities_carbon monoxide detector     0\n",
       "Amenities_shampoo                      0\n",
       "Amenities_internet                     0\n",
       "Amenities_hangers                      0\n",
       "Amenities_family/kid friendly          0\n",
       "Amenities_laptop friendly workspace    0\n",
       "Amenities_iron                         0\n",
       "Amenities_hair dryer                   0\n",
       "Amenities_cable tv                     0\n",
       "Amenities_fire extinguisher            0\n",
       "Amenities_24-hour check-in             0\n",
       "Amenities_first aid kit                0\n",
       "dtype: int64"
      ]
     },
     "execution_count": 87,
     "metadata": {},
     "output_type": "execute_result"
    }
   ],
   "source": [
    "#we still have a lot of the NaN data in our fields, let's decide if we need to keep some of those based\n",
    "#on the correlation price\n",
    "df.isna().sum()"
   ]
  },
  {
   "cell_type": "code",
   "execution_count": 89,
   "metadata": {
    "scrolled": false
   },
   "outputs": [
    {
     "data": {
      "text/plain": [
       "price                                  1.000000\n",
       "accommodates                           0.593567\n",
       "bedrooms                               0.546294\n",
       "bathrooms                              0.335801\n",
       "Amenities_cable tv                     0.320597\n",
       "Amenities_ tv                          0.320597\n",
       "guests_included                        0.310101\n",
       "Amenities_family/kid friendly          0.284764\n",
       "Amenities_air conditioning             0.270229\n",
       "latitude                               0.241166\n",
       "longitude                              0.207728\n",
       "review_scores_location                 0.192760\n",
       "Amenities_washer                       0.176525\n",
       "Amenities_24-hour check-in             0.162423\n",
       "Amenities_kitchen                      0.157260\n",
       "cancellation_policy_numeric            0.150214\n",
       "Amenities_dryer                        0.147941\n",
       "review_scores_cleanliness              0.142950\n",
       "Amenities_iron                         0.137192\n",
       "Amenities_hair dryer                   0.130118\n",
       "host_since                             0.124984\n",
       "review_scores_rating                   0.105654\n",
       "Amenities_heating                      0.098057\n",
       "property_type_numeric                  0.073198\n",
       "Amenities_shampoo                      0.068967\n",
       "Amenities_laptop friendly workspace    0.067734\n",
       "host_identity_verified_numeric         0.060501\n",
       "Amenities_essentials                   0.057605\n",
       "Amenities_hangers                      0.055110\n",
       "Amenities_fire extinguisher            0.054299\n",
       "Amenities_carbon monoxide detector     0.050443\n",
       "Amenities_internet                     0.046454\n",
       "extra_people                           0.045085\n",
       "review_scores_accuracy                 0.039896\n",
       "Amenities_wireless internet            0.039455\n",
       "host_is_superhost_numeric              0.027951\n",
       "Amenities_smoke detector               0.027564\n",
       "review_scores_value                    0.012094\n",
       "review_scores_communication            0.004502\n",
       "review_scores_checkin                 -0.006415\n",
       "host_has_profile_pic_numeric          -0.006996\n",
       "minimum_nights                        -0.022362\n",
       "neighbourhood_cleansed_numeric        -0.047820\n",
       "instant_bookable_numeric              -0.070362\n",
       "Amenities_first aid kit               -0.071717\n",
       "number_of_reviews                     -0.108491\n",
       "bed_type_numeric                      -0.145579\n",
       "room_type_numeric                     -0.555837\n",
       "Name: price, dtype: float64"
      ]
     },
     "execution_count": 89,
     "metadata": {},
     "output_type": "execute_result"
    }
   ],
   "source": [
    "df[df.columns[1:]].corr()['price'][:].sort_values(ascending=False)"
   ]
  },
  {
   "cell_type": "code",
   "execution_count": 69,
   "metadata": {},
   "outputs": [],
   "source": [
    "#cleaning fee and security deposit have huge corr with price but they are not the factors in setting up the price so \n",
    "#I am going to drop those columns. High deposit = high price so this may mess up the prediction. \n",
    "df.drop(['cleaning_fee', 'security_deposit'], axis=1, inplace=True)"
   ]
  },
  {
   "cell_type": "code",
   "execution_count": 74,
   "metadata": {},
   "outputs": [],
   "source": [
    "#droping the columns host_acceptance_rate, host_response_time_numeric, host_response_rate, host_response_time\n",
    "#the corr is not big enough with for us to drop 471 rows of data. \n",
    "df.drop(['host_acceptance_rate', 'host_response_time_numeric','host_response_rate','host_response_time'], axis=1, inplace=True)"
   ]
  },
  {
   "cell_type": "code",
   "execution_count": 80,
   "metadata": {},
   "outputs": [],
   "source": [
    "#droping rows that have NaN value in columns: bedrooms, bathrooms,property_type\n",
    "#it is only a couple of rows \n",
    "df = df.dropna(subset= ['bedrooms','bathrooms','property_type'],axis = 0)                           "
   ]
  },
  {
   "cell_type": "code",
   "execution_count": 86,
   "metadata": {},
   "outputs": [],
   "source": [
    "#at this point I think that we have two ways to go, droping the review columns completely or droping the NaN rows.\n",
    "#replacing those values with avg doesn't make sense. as AirBnB is review based app I will drop the rows without reviews. \n",
    "\n",
    "df = df.dropna(subset= ['review_scores_rating','review_scores_accuracy','review_scores_cleanliness',\n",
    "                       'review_scores_location','review_scores_value'],axis = 0)\n",
    "#after that we still have 2700 rows of data to predict on. "
   ]
  },
  {
   "cell_type": "code",
   "execution_count": 88,
   "metadata": {},
   "outputs": [
    {
     "data": {
      "text/plain": [
       "(2736, 59)"
      ]
     },
     "execution_count": 88,
     "metadata": {},
     "output_type": "execute_result"
    }
   ],
   "source": []
  },
  {
   "cell_type": "code",
   "execution_count": null,
   "metadata": {},
   "outputs": [],
   "source": []
  }
 ],
 "metadata": {
  "kernelspec": {
   "display_name": "Python 3",
   "language": "python",
   "name": "python3"
  },
  "language_info": {
   "codemirror_mode": {
    "name": "ipython",
    "version": 3
   },
   "file_extension": ".py",
   "mimetype": "text/x-python",
   "name": "python",
   "nbconvert_exporter": "python",
   "pygments_lexer": "ipython3",
   "version": "3.7.4"
  }
 },
 "nbformat": 4,
 "nbformat_minor": 2
}
